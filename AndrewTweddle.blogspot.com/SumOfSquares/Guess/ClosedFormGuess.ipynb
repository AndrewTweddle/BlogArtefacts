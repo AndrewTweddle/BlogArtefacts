{
 "metadata": {
  "name": "",
  "signature": "sha256:bc57ec7b58dd30d784a3b0539e01cafe7fe4318f6ffecd108c837fbc6a5d0afc"
 },
 "nbformat": 3,
 "nbformat_minor": 0,
 "worksheets": [
  {
   "cells": [
    {
     "cell_type": "code",
     "collapsed": false,
     "input": [
      "from sympy import *\n",
      "init_printing()"
     ],
     "language": "python",
     "metadata": {},
     "outputs": [],
     "prompt_number": 155
    },
    {
     "cell_type": "code",
     "collapsed": false,
     "input": [
      "# Configure symbols:\n",
      "n = Symbol(\"n\", integer=True)\n",
      "i = Symbol(\"i\", integer=True)\n",
      "a_0, a_1, a_2, a_3 = symbols(\"a_0, a_1, a_2, a_3\", rational=True)"
     ],
     "language": "python",
     "metadata": {},
     "outputs": [],
     "prompt_number": 175
    },
    {
     "cell_type": "code",
     "collapsed": false,
     "input": [
      "# Assume the closed form solution is a degree 3 polynomial:\n",
      "\n",
      "# h is the term inside the summation\n",
      "h_temp = Poly(n ** 2, n)\n",
      "f_temp = Poly(a_0 + a_1 * n + a_2 * n ** 2 + a_3 * n ** 3, n)\n",
      "f, h = f_temp.unify(h_temp)  # a hack to give the coefficiencts of f and h the same domain\n",
      "\n",
      "# Note that the domain is Z not Q, otherwise we get an error message about a_2 not being rational"
     ],
     "language": "python",
     "metadata": {},
     "outputs": [],
     "prompt_number": 176
    },
    {
     "cell_type": "code",
     "collapsed": false,
     "input": [
      "# A hack... compute f(n) for 0, 1, 2, 3 to get four equations for the four unknown coefficients:\n",
      "hack_eqs = [f(0), f(1) - 1, f(2) - 1 - 2 ** 2, f(3) - 1 - 2 ** 2 - 3 ** 2]\n",
      "hack_eqs"
     ],
     "language": "python",
     "metadata": {},
     "outputs": [
      {
       "latex": [
        "$$\\left [ a_{0}, \\quad a_{0} + a_{1} + a_{2} + a_{3} - 1, \\quad a_{0} + 2 a_{1} + 4 a_{2} + 8 a_{3} - 5, \\quad a_{0} + 3 a_{1} + 9 a_{2} + 27 a_{3} - 14\\right ]$$"
       ],
       "metadata": {},
       "output_type": "pyout",
       "png": "[encoded data removed]",
       "prompt_number": 170,
       "text": [
        "[a\u2080, a\u2080 + a\u2081 + a\u2082 + a\u2083 - 1, a\u2080 + 2\u22c5a\u2081 + 4\u22c5a\u2082 + 8\u22c5a\u2083 - 5, a\u2080 + 3\u22c5a\u2081 + 9\u22c5a\u2082 + 27\n",
        "\u22c5a\u2083 - 14]"
       ]
      }
     ],
     "prompt_number": 170
    },
    {
     "cell_type": "code",
     "collapsed": false,
     "input": [
      "# Solve for the coefficients:\n",
      "hack_soln = solve(hack_eqs)\n",
      "hack_soln"
     ],
     "language": "python",
     "metadata": {},
     "outputs": [
      {
       "latex": [
        "$$\\left \\{ a_{0} : 0, \\quad a_{1} : \\frac{1}{6}, \\quad a_{2} : \\frac{1}{2}, \\quad a_{3} : \\frac{1}{3}\\right \\}$$"
       ],
       "metadata": {},
       "output_type": "pyout",
       "png": "[encoded data removed]",
       "prompt_number": 172,
       "text": [
        "{a\u2080: 0, a\u2081: 1/6, a\u2082: 1/2, a\u2083: 1/3}"
       ]
      }
     ],
     "prompt_number": 172
    },
    {
     "cell_type": "code",
     "collapsed": false,
     "input": [
      "# The closed form solution, but ONLY if f really is a polynomial of degree 3:\n",
      "f_closed_hack = factor(f.subs(hack_soln))\n",
      "f_closed_hack"
     ],
     "language": "python",
     "metadata": {},
     "outputs": [
      {
       "latex": [
        "$$\\frac{n}{6} \\left(n + 1\\right) \\left(2 n + 1\\right)$$"
       ],
       "metadata": {},
       "output_type": "pyout",
       "png": "[encoded data removed]",
       "prompt_number": 173,
       "text": [
        "n\u22c5(n + 1)\u22c5(2\u22c5n + 1)\n",
        "\u2500\u2500\u2500\u2500\u2500\u2500\u2500\u2500\u2500\u2500\u2500\u2500\u2500\u2500\u2500\u2500\u2500\u2500\u2500\n",
        "         6         "
       ]
      }
     ],
     "prompt_number": 173
    },
    {
     "cell_type": "code",
     "collapsed": false,
     "input": [
      "# But this doesn't PROVE that it is a solution.\n",
      "# So rather find coefficients for f such that:\n",
      "# 1) f(0) = 0, and...\n",
      "eq_0 = Eq(f(0), 0)\n",
      "eq_0"
     ],
     "language": "python",
     "metadata": {},
     "outputs": [
      {
       "latex": [
        "$$a_{0} = 0$$"
       ],
       "metadata": {},
       "output_type": "pyout",
       "png": "[encoded data removed]",
       "prompt_number": 177,
       "text": [
        "a\u2080 = 0"
       ]
      }
     ],
     "prompt_number": 177
    },
    {
     "cell_type": "code",
     "collapsed": false,
     "input": [
      "# 2) f(i) - f(i-1) = h(i) for all i\n",
      "p1 = simplify(f.subs(n, i) - f.subs(n, i - 1) - h.subs(n, i))\n",
      "p2 = Poly(p1, i)  # Hack to group by \n",
      "(p1, p2)\n",
      "# Note the domains... how to specify rational domains?"
     ],
     "language": "python",
     "metadata": {},
     "outputs": [
      {
       "latex": [
        "$$\\left ( \\operatorname{Poly}{\\left( a_{1} + 2 a_{2} i - a_{2} + 3 a_{3} i^{2} - 3 a_{3} i + a_{3} - i^{2}, i, a_{1}, a_{2}, a_{3}, domain=\\mathbb{Z} \\right)}, \\quad \\operatorname{Poly}{\\left( a_{1} - a_{2} + a_{3} + i^{2} \\left(3 a_{3} - 1\\right) + i \\left(2 a_{2} - 3 a_{3}\\right), i, domain=\\mathbb{Z}\\left[a_{1}, a_{2}, a_{3}\\right] \\right)}\\right )$$"
       ],
       "metadata": {},
       "output_type": "pyout",
       "png": "[encoded data removed]",
       "prompt_number": 160,
       "text": [
        "(Poly(3*i**2*a_3 - i**2 + 2*i*a_2 - 3*i*a_3 + a_1 - a_2 + a_3, i, a_1, a_2, a_\n",
        "3, domain='ZZ'), Poly((3*a_3 - 1)*i**2 + (2*a_2 - 3*a_3)*i + a_1 - a_2 + a_3, \n",
        "i, domain='ZZ[a_1,a_2,a_3]'))"
       ]
      }
     ],
     "prompt_number": 160
    },
    {
     "cell_type": "code",
     "collapsed": false,
     "input": [
      "eqs = [Eq(c) for c in p2.coeffs()] + [eq_0]\n",
      "eqs"
     ],
     "language": "python",
     "metadata": {},
     "outputs": [
      {
       "latex": [
        "$$\\left [ 3 a_{3} - 1 = 0, \\quad 2 a_{2} - 3 a_{3} = 0, \\quad a_{1} - a_{2} + a_{3} = 0, \\quad a_{0} = 0\\right ]$$"
       ],
       "metadata": {},
       "output_type": "pyout",
       "png": "[encoded data removed]",
       "prompt_number": 161,
       "text": [
        "[3\u22c5a\u2083 - 1 = 0, 2\u22c5a\u2082 - 3\u22c5a\u2083 = 0, a\u2081 - a\u2082 + a\u2083 = 0, a\u2080 = 0]"
       ]
      }
     ],
     "prompt_number": 161
    },
    {
     "cell_type": "code",
     "collapsed": false,
     "input": [
      "# Solve for the coefficients:\n",
      "soln = solve(eqs)\n",
      "soln"
     ],
     "language": "python",
     "metadata": {},
     "outputs": [
      {
       "latex": [
        "$$\\left \\{ a_{0} : 0, \\quad a_{1} : \\frac{1}{6}, \\quad a_{2} : \\frac{1}{2}, \\quad a_{3} : \\frac{1}{3}\\right \\}$$"
       ],
       "metadata": {},
       "output_type": "pyout",
       "png": "[encoded data removed]",
       "prompt_number": 162,
       "text": [
        "{a\u2080: 0, a\u2081: 1/6, a\u2082: 1/2, a\u2083: 1/3}"
       ]
      }
     ],
     "prompt_number": 162
    },
    {
     "cell_type": "code",
     "collapsed": false,
     "input": [
      "# The closed form solution:\n",
      "f_closed = factor(f.subs(soln))\n",
      "f_closed"
     ],
     "language": "python",
     "metadata": {},
     "outputs": [
      {
       "latex": [
        "$$\\frac{n}{6} \\left(n + 1\\right) \\left(2 n + 1\\right)$$"
       ],
       "metadata": {},
       "output_type": "pyout",
       "png": "[encoded data removed]",
       "prompt_number": 164,
       "text": [
        "n\u22c5(n + 1)\u22c5(2\u22c5n + 1)\n",
        "\u2500\u2500\u2500\u2500\u2500\u2500\u2500\u2500\u2500\u2500\u2500\u2500\u2500\u2500\u2500\u2500\u2500\u2500\u2500\n",
        "         6         "
       ]
      }
     ],
     "prompt_number": 164
    },
    {
     "cell_type": "code",
     "collapsed": false,
     "input": [
      "# Some useful Latex expressions for pasting into the blog...\n",
      "print(latex(f.as_expr()))\n",
      "print(latex(h.subs(n, i).as_expr()))\n",
      "for e in eqs: print(latex(e))\n",
      "print(latex(soln))\n",
      "print(latex(f_closed))"
     ],
     "language": "python",
     "metadata": {},
     "outputs": [
      {
       "output_type": "stream",
       "stream": "stdout",
       "text": [
        "a_{0} + a_{1} n + a_{2} n^{2} + a_{3} n^{3}\n",
        "i^{2}\n",
        "3 a_{3} - 1 = 0\n",
        "2 a_{2} - 3 a_{3} = 0\n",
        "a_{1} - a_{2} + a_{3} = 0\n",
        "a_{0} = 0\n",
        "\\left \\{ a_{0} : 0, \\quad a_{1} : \\frac{1}{6}, \\quad a_{2} : \\frac{1}{2}, \\quad a_{3} : \\frac{1}{3}\\right \\}\n",
        "\\frac{n}{6} \\left(n + 1\\right) \\left(2 n + 1\\right)\n"
       ]
      }
     ],
     "prompt_number": 178
    }
   ],
   "metadata": {}
  }
 ]
}