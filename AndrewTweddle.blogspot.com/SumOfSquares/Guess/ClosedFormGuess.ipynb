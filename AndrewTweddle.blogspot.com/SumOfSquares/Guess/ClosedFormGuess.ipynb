{
 "metadata": {
  "name": "",
  "signature": "sha256:927790ede5360152c8c9ced4c4a427ea9bf3a229d396e63e22517f256928c957"
 },
 "nbformat": 3,
 "nbformat_minor": 0,
 "worksheets": [
  {
   "cells": [
    {
     "cell_type": "code",
     "collapsed": false,
     "input": [
      "from sympy import *\n",
      "# TODO: it's generally better to import specific functions\n",
      "\n",
      "init_printing()"
     ],
     "language": "python",
     "metadata": {},
     "outputs": [],
     "prompt_number": 221
    },
    {
     "cell_type": "code",
     "collapsed": false,
     "input": [
      "# Configure symbols:\n",
      "n = Symbol(\"n\", integer=True)\n",
      "i = Symbol(\"i\", integer=True)\n",
      "a_0, a_1, a_2, a_3 = symbols(\"a_0, a_1, a_2, a_3\", rational=True)\n",
      "d = 2  # i.e. the degree of h(i), the polynomial in the summation"
     ],
     "language": "python",
     "metadata": {},
     "outputs": [],
     "prompt_number": 222
    },
    {
     "cell_type": "code",
     "collapsed": false,
     "input": [
      "# Function f is the true sum of squares function. \n",
      "# Function g is our guess as to its closed form solution.\n",
      "def f(x):\n",
      "    if x == 0:\n",
      "        return 0\n",
      "    squares = [k * k for k in range(x + 1)]\n",
      "    return sum(squares)\n",
      "\n",
      "[(k, f(k)) for k in range(11)]"
     ],
     "language": "python",
     "metadata": {},
     "outputs": [
      {
       "latex": [
        "$$\\left [ \\left ( 0, \\quad 0\\right ), \\quad \\left ( 1, \\quad 1\\right ), \\quad \\left ( 2, \\quad 5\\right ), \\quad \\left ( 3, \\quad 14\\right ), \\quad \\left ( 4, \\quad 30\\right ), \\quad \\left ( 5, \\quad 55\\right ), \\quad \\left ( 6, \\quad 91\\right ), \\quad \\left ( 7, \\quad 140\\right ), \\quad \\left ( 8, \\quad 204\\right ), \\quad \\left ( 9, \\quad 285\\right ), \\quad \\left ( 10, \\quad 385\\right )\\right ]$$"
       ],
       "metadata": {},
       "output_type": "pyout",
       "png": "[encoded data removed]",
       "prompt_number": 223,
       "text": [
        "[(0, 0), (1, 1), (2, 5), (3, 14), (4, 30), (5, 55), (6, 91), (7, 140), (8, 204\n",
        "), (9, 285), (10, 385)]"
       ]
      }
     ],
     "prompt_number": 223
    },
    {
     "cell_type": "code",
     "collapsed": false,
     "input": [
      "# Assume the closed form solution is a degree 3 polynomial:\n",
      "\n",
      "# h is the term inside the summation\n",
      "h_temp = Poly(n ** 2, n)\n",
      "g_temp = Poly(a_0 + a_1 * n + a_2 * n ** 2 + a_3 * n ** 3, n)\n",
      "g, h = g_temp.unify(h_temp)  # a hack to give the coefficients of g and h the same domain\n",
      "g\n",
      "# Note that the domain is Z not Q or R, otherwise we get an error message about a_2 not being rational\n",
      "# TODO: resolve this"
     ],
     "language": "python",
     "metadata": {},
     "outputs": [
      {
       "latex": [
        "$$\\operatorname{Poly}{\\left( a_{0} + a_{1} n + a_{2} n^{2} + a_{3} n^{3}, n, domain=\\mathbb{Z}\\left[a_{0}, a_{1}, a_{2}, a_{3}\\right] \\right)}$$"
       ],
       "metadata": {},
       "output_type": "pyout",
       "png": "[encoded data removed]",
       "prompt_number": 224,
       "text": [
        "Poly(a_3*n**3 + a_2*n**2 + a_1*n + a_0, n, domain='ZZ[a_0,a_1,a_2,a_3]')"
       ]
      }
     ],
     "prompt_number": 224
    },
    {
     "cell_type": "code",
     "collapsed": false,
     "input": [
      "# A hack... equate g(n) and f(n) for n in {0, 1, 2, 3} to get four equations in the four unknown coefficients:\n",
      "hack_eqs = [g(k) - f(k) for k in range(d+2)]\n",
      "hack_eqs"
     ],
     "language": "python",
     "metadata": {},
     "outputs": [
      {
       "latex": [
        "$$\\left [ a_{0}, \\quad a_{0} + a_{1} + a_{2} + a_{3} - 1, \\quad a_{0} + 2 a_{1} + 4 a_{2} + 8 a_{3} - 5, \\quad a_{0} + 3 a_{1} + 9 a_{2} + 27 a_{3} - 14\\right ]$$"
       ],
       "metadata": {},
       "output_type": "pyout",
       "png": "[encoded data removed]",
       "prompt_number": 225,
       "text": [
        "[a\u2080, a\u2080 + a\u2081 + a\u2082 + a\u2083 - 1, a\u2080 + 2\u22c5a\u2081 + 4\u22c5a\u2082 + 8\u22c5a\u2083 - 5, a\u2080 + 3\u22c5a\u2081 + 9\u22c5a\u2082 + 27\n",
        "\u22c5a\u2083 - 14]"
       ]
      }
     ],
     "prompt_number": 225
    },
    {
     "cell_type": "code",
     "collapsed": false,
     "input": [
      "# Solve for the coefficients:\n",
      "hack_soln = solve(hack_eqs)\n",
      "hack_soln"
     ],
     "language": "python",
     "metadata": {},
     "outputs": [
      {
       "latex": [
        "$$\\left \\{ a_{0} : 0, \\quad a_{1} : \\frac{1}{6}, \\quad a_{2} : \\frac{1}{2}, \\quad a_{3} : \\frac{1}{3}\\right \\}$$"
       ],
       "metadata": {},
       "output_type": "pyout",
       "png": "[encoded data removed]",
       "prompt_number": 226,
       "text": [
        "{a\u2080: 0, a\u2081: 1/6, a\u2082: 1/2, a\u2083: 1/3}"
       ]
      }
     ],
     "prompt_number": 226
    },
    {
     "cell_type": "code",
     "collapsed": false,
     "input": [
      "# The closed form solution, but ONLY if f really is a polynomial of degree 3:\n",
      "g_closed = factor(g.subs(hack_soln))\n",
      "g_closed"
     ],
     "language": "python",
     "metadata": {},
     "outputs": [
      {
       "latex": [
        "$$\\frac{n}{6} \\left(n + 1\\right) \\left(2 n + 1\\right)$$"
       ],
       "metadata": {},
       "output_type": "pyout",
       "png": "[encoded data removed]",
       "prompt_number": 227,
       "text": [
        "n\u22c5(n + 1)\u22c5(2\u22c5n + 1)\n",
        "\u2500\u2500\u2500\u2500\u2500\u2500\u2500\u2500\u2500\u2500\u2500\u2500\u2500\u2500\u2500\u2500\u2500\u2500\u2500\n",
        "         6         "
       ]
      }
     ],
     "prompt_number": 227
    },
    {
     "cell_type": "code",
     "collapsed": false,
     "input": [
      "# But this doesn't PROVE that g(n) = f(n) for all non-negative integers n.\n",
      "# So rather find coefficients a_j for g such that:\n",
      "# 1) g(0) = f(0) = 0\n",
      "eq_0 = Eq(g(0), 0)\n",
      "eq_0\n",
      "\n",
      "# and..."
     ],
     "language": "python",
     "metadata": {},
     "outputs": [
      {
       "latex": [
        "$$a_{0} = 0$$"
       ],
       "metadata": {},
       "output_type": "pyout",
       "png": "[encoded data removed]",
       "prompt_number": 228,
       "text": [
        "a\u2080 = 0"
       ]
      }
     ],
     "prompt_number": 228
    },
    {
     "cell_type": "code",
     "collapsed": false,
     "input": [
      "# 2) Choose a_j coefficents, so that: g(i) - g(i-1) = h(i) for any positive integer i\n",
      "#    Because then f(n) = sum(i=1 to n)[h(i)]            by definition\n",
      "#                      = sum(i=1 to n)[g(i) - g(i-1)]\n",
      "#                      = g(n) - g(0)                    since all other terms cancel out\n",
      "#                      = g(n)                           since g(0) = 0\n",
      "p1 = simplify(g.subs(n, i) - g.subs(n, i - 1) - h.subs(n, i))\n",
      "p2 = Poly(p1, i)  # a hack to group terms by powers of i only\n",
      "(p1, p2)\n",
      "# Note the domains... how to specify rational or real domains for the general case?"
     ],
     "language": "python",
     "metadata": {},
     "outputs": [
      {
       "latex": [
        "$$\\left ( \\operatorname{Poly}{\\left( a_{1} + 2 a_{2} i - a_{2} + 3 a_{3} i^{2} - 3 a_{3} i + a_{3} - i^{2}, i, a_{1}, a_{2}, a_{3}, domain=\\mathbb{Z} \\right)}, \\quad \\operatorname{Poly}{\\left( a_{1} - a_{2} + a_{3} + i^{2} \\left(3 a_{3} - 1\\right) + i \\left(2 a_{2} - 3 a_{3}\\right), i, domain=\\mathbb{Z}\\left[a_{1}, a_{2}, a_{3}\\right] \\right)}\\right )$$"
       ],
       "metadata": {},
       "output_type": "pyout",
       "png": "[encoded data removed]",
       "prompt_number": 230,
       "text": [
        "(Poly(3*i**2*a_3 - i**2 + 2*i*a_2 - 3*i*a_3 + a_1 - a_2 + a_3, i, a_1, a_2, a_\n",
        "3, domain='ZZ'), Poly((3*a_3 - 1)*i**2 + (2*a_2 - 3*a_3)*i + a_1 - a_2 + a_3, \n",
        "i, domain='ZZ[a_1,a_2,a_3]'))"
       ]
      }
     ],
     "prompt_number": 230
    },
    {
     "cell_type": "code",
     "collapsed": false,
     "input": [
      "# Enforce that g(i) - g(i-1) and h(i) are identical polynomials in i.\n",
      "# Equivalently each coefficient in g(i) - g(i-1) - h(i) is always zero:\n",
      "eqs = [Eq(c) for c in p2.coeffs()] + [eq_0]\n",
      "eqs"
     ],
     "language": "python",
     "metadata": {},
     "outputs": [
      {
       "latex": [
        "$$\\left [ 3 a_{3} - 1 = 0, \\quad 2 a_{2} - 3 a_{3} = 0, \\quad a_{1} - a_{2} + a_{3} = 0, \\quad a_{0} = 0\\right ]$$"
       ],
       "metadata": {},
       "output_type": "pyout",
       "png": "[encoded data removed]",
       "prompt_number": 246,
       "text": [
        "[3\u22c5a\u2083 - 1 = 0, 2\u22c5a\u2082 - 3\u22c5a\u2083 = 0, a\u2081 - a\u2082 + a\u2083 = 0, a\u2080 = 0]"
       ]
      }
     ],
     "prompt_number": 246
    },
    {
     "cell_type": "code",
     "collapsed": false,
     "input": [
      "# Solve for the coefficients:\n",
      "soln = solve(eqs)\n",
      "soln"
     ],
     "language": "python",
     "metadata": {},
     "outputs": [
      {
       "latex": [
        "$$\\left \\{ a_{0} : 0, \\quad a_{1} : \\frac{1}{6}, \\quad a_{2} : \\frac{1}{2}, \\quad a_{3} : \\frac{1}{3}\\right \\}$$"
       ],
       "metadata": {},
       "output_type": "pyout",
       "png": "[encoded data removed]",
       "prompt_number": 238,
       "text": [
        "{a\u2080: 0, a\u2081: 1/6, a\u2082: 1/2, a\u2083: 1/3}"
       ]
      }
     ],
     "prompt_number": 238
    },
    {
     "cell_type": "code",
     "collapsed": false,
     "input": [
      "# The closed form solution:\n",
      "g.subs(soln)"
     ],
     "language": "python",
     "metadata": {},
     "outputs": [
      {
       "latex": [
        "$$\\frac{n^{3}}{3} + \\frac{n^{2}}{2} + \\frac{n}{6}$$"
       ],
       "metadata": {},
       "output_type": "pyout",
       "png": "[encoded data removed]",
       "prompt_number": 241,
       "text": [
        " 3    2    \n",
        "n    n    n\n",
        "\u2500\u2500 + \u2500\u2500 + \u2500\n",
        "3    2    6"
       ]
      }
     ],
     "prompt_number": 241
    },
    {
     "cell_type": "code",
     "collapsed": false,
     "input": [
      "# Factorize the polynomial to get a neater closed form solution for f:\n",
      "f_closed = factor(g.subs(soln))\n",
      "f_closed"
     ],
     "language": "python",
     "metadata": {},
     "outputs": [
      {
       "latex": [
        "$$\\frac{n}{6} \\left(n + 1\\right) \\left(2 n + 1\\right)$$"
       ],
       "metadata": {},
       "output_type": "pyout",
       "png": "[encoded data removed]",
       "prompt_number": 242,
       "text": [
        "n\u22c5(n + 1)\u22c5(2\u22c5n + 1)\n",
        "\u2500\u2500\u2500\u2500\u2500\u2500\u2500\u2500\u2500\u2500\u2500\u2500\u2500\u2500\u2500\u2500\u2500\u2500\u2500\n",
        "         6         "
       ]
      }
     ],
     "prompt_number": 242
    },
    {
     "cell_type": "code",
     "collapsed": false,
     "input": [
      "# Some useful Latex expressions for pasting into the blog post...\n",
      "print(latex(g.as_expr()))\n",
      "print(latex(h.subs(n, i).as_expr()))\n",
      "print(latex(soln))\n",
      "print(latex(f_closed))\n",
      "for e in eqs: print(latex(e))"
     ],
     "language": "python",
     "metadata": {},
     "outputs": [
      {
       "output_type": "stream",
       "stream": "stdout",
       "text": [
        "a_{0} + a_{1} n + a_{2} n^{2} + a_{3} n^{3}\n",
        "i^{2}\n",
        "\\left \\{ a_{0} : 0, \\quad a_{1} : \\frac{1}{6}, \\quad a_{2} : \\frac{1}{2}, \\quad a_{3} : \\frac{1}{3}\\right \\}\n",
        "\\frac{n}{6} \\left(n + 1\\right) \\left(2 n + 1\\right)\n",
        "3 a_{3} - 1 = 0\n",
        "2 a_{2} - 3 a_{3} = 0\n",
        "a_{1} - a_{2} + a_{3} = 0\n",
        "a_{0} = 0\n"
       ]
      }
     ],
     "prompt_number": 240
    },
    {
     "cell_type": "code",
     "collapsed": false,
     "input": [
      "# Experiment with parsing expressions, for generalizing the above to other functions:\n",
      "from sympy.parsing.sympy_parser import parse_expr, stringify_expr"
     ],
     "language": "python",
     "metadata": {},
     "outputs": [],
     "prompt_number": 254
    },
    {
     "cell_type": "code",
     "collapsed": false,
     "input": [
      "# To see the documentation AND the function definition (scroll to the end), do the following:\n",
      "??parse_expr\n",
      "??stringify_expr\n",
      "# Unfortunately this doesn't help with working out what the keys & values in local_dict are\n",
      "# So guess that the dictionary maps tokens to SymPy symbols..."
     ],
     "language": "python",
     "metadata": {},
     "outputs": [],
     "prompt_number": 257
    },
    {
     "cell_type": "code",
     "collapsed": false,
     "input": [
      "expr_to_parse = \"i ** 2\"\n",
      "parsed = parse_expr(expr_to_parse, {\"i\": i})\n",
      "parsed"
     ],
     "language": "python",
     "metadata": {},
     "outputs": [
      {
       "latex": [
        "$$i^{2}$$"
       ],
       "metadata": {},
       "output_type": "pyout",
       "png": "[encoded data removed]",
       "prompt_number": 258,
       "text": [
        " 2\n",
        "i "
       ]
      }
     ],
     "prompt_number": 258
    },
    {
     "cell_type": "code",
     "collapsed": false,
     "input": [
      "h_poly = Poly(parsed, i)\n",
      "h_poly"
     ],
     "language": "python",
     "metadata": {},
     "outputs": [
      {
       "latex": [
        "$$\\operatorname{Poly}{\\left( i^{2}, i, domain=\\mathbb{Z} \\right)}$$"
       ],
       "metadata": {},
       "output_type": "pyout",
       "png": "[encoded data removed]",
       "prompt_number": 261,
       "text": [
        "Poly(i**2, i, domain='ZZ')"
       ]
      }
     ],
     "prompt_number": 261
    },
    {
     "cell_type": "code",
     "collapsed": false,
     "input": [
      "d = h_poly.degree(i)\n",
      "d"
     ],
     "language": "python",
     "metadata": {},
     "outputs": [
      {
       "latex": [
        "$$2$$"
       ],
       "metadata": {},
       "output_type": "pyout",
       "png": "[encoded data removed]",
       "prompt_number": 264,
       "text": [
        "2"
       ]
      }
     ],
     "prompt_number": 264
    },
    {
     "cell_type": "code",
     "collapsed": false,
     "input": [],
     "language": "python",
     "metadata": {},
     "outputs": []
    }
   ],
   "metadata": {}
  }
 ]
}